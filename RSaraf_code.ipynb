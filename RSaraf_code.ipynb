{
 "cells": [
  {
   "cell_type": "code",
   "execution_count": 1,
   "metadata": {
    "collapsed": true
   },
   "outputs": [],
   "source": [
    "import numpy as np\n",
    "import pandas as pd\n",
    "from sklearn.svm import SVC\n",
    "from sklearn.metrics import roc_curve\n",
    "from sklearn.metrics import roc_auc_score\n",
    "from sklearn.model_selection import KFold\n",
    "from sklearn.model_selection import cross_val_score\n",
    "import matplotlib.pyplot as plt"
   ]
  },
  {
   "cell_type": "markdown",
   "metadata": {},
   "source": [
    "Alphabet"
   ]
  },
  {
   "cell_type": "code",
   "execution_count": 2,
   "metadata": {
    "collapsed": true
   },
   "outputs": [],
   "source": [
    "key = ['A','R','N','D','C','Q','E','G','H','I','L','K','M','F','P','S','T','W','Y','V']"
   ]
  },
  {
   "cell_type": "markdown",
   "metadata": {},
   "source": [
    "Training Data - 8 by 20 matrix"
   ]
  },
  {
   "cell_type": "code",
   "execution_count": 3,
   "metadata": {
    "collapsed": true
   },
   "outputs": [],
   "source": [
    "file = open(\"Train-746Data.txt\")\n",
    "entries = file.read().split('\\n')\n",
    "table = pd.Series(list(entries))\n",
    "table = table.truncate(after=745)\n",
    "table = table.str.split(',')"
   ]
  },
  {
   "cell_type": "code",
   "execution_count": 4,
   "metadata": {
    "collapsed": true
   },
   "outputs": [],
   "source": [
    "octamer = np.chararray((len(entries),8))\n",
    "indicator = np.zeros(len(entries))\n",
    "    \n",
    "for i in range(0,len(table)):\n",
    "    indicator[i] = table[i][1]\n",
    "    if indicator[i] == -1:\n",
    "        indicator[i] = 0\n",
    "    for j in range(0,8):\n",
    "        octamer[i][j] = table[i][0][j]"
   ]
  },
  {
   "cell_type": "code",
   "execution_count": 5,
   "metadata": {
    "collapsed": true,
    "scrolled": true
   },
   "outputs": [],
   "source": [
    "mat = []\n",
    "\n",
    "for k in range(0,len(octamer)):\n",
    "    rep = np.zeros((len(key),8))\n",
    "    for j in range(0,8):\n",
    "        for i in range(0,len(key)):\n",
    "            if octamer[k][j] == key[i]:\n",
    "                rep[i][j] = 1\n",
    "    mat.append(np.ndarray.flatten(rep))\n",
    "    \n",
    "mat = np.asarray(mat)"
   ]
  },
  {
   "cell_type": "markdown",
   "metadata": {},
   "source": [
    "Test Data - 8 by 20 matrix"
   ]
  },
  {
   "cell_type": "code",
   "execution_count": 6,
   "metadata": {
    "collapsed": true
   },
   "outputs": [],
   "source": [
    "file = open(\"Test-impensData.txt\")\n",
    "test = file.read().split('\\n')\n",
    "table_test = pd.Series(list(test))\n",
    "table_test = table_test.truncate(after=946)\n",
    "table_test = table_test.str.split(',')"
   ]
  },
  {
   "cell_type": "code",
   "execution_count": 7,
   "metadata": {
    "collapsed": true
   },
   "outputs": [],
   "source": [
    "octamer_test = np.chararray((len(test),8))\n",
    "indicator_test = np.zeros(len(test))\n",
    "    \n",
    "for i in range(0,len(table_test)):\n",
    "    indicator_test[i] = table_test[i][1]\n",
    "    if indicator_test[i] == -1:\n",
    "        indicator_test[i] = 0\n",
    "    for j in range(0,8):\n",
    "        octamer_test[i][j] = table_test[i][0][j]"
   ]
  },
  {
   "cell_type": "code",
   "execution_count": 8,
   "metadata": {
    "collapsed": true
   },
   "outputs": [],
   "source": [
    "mat_test = []\n",
    "\n",
    "for k in range(0,len(octamer_test)):\n",
    "    rep = np.zeros((len(key),8))\n",
    "    for j in range(0,8):\n",
    "        for i in range(0,len(key)):\n",
    "            if octamer_test[k][j] == key[i]:\n",
    "                rep[i][j] = 1\n",
    "    mat_test.append(np.ndarray.flatten(rep))\n",
    "    \n",
    "mat_test = np.asarray(mat_test)\n",
    "\n",
    "y_true = indicator_test"
   ]
  },
  {
   "cell_type": "markdown",
   "metadata": {},
   "source": [
    "SVM - rbf"
   ]
  },
  {
   "cell_type": "code",
   "execution_count": 9,
   "metadata": {},
   "outputs": [
    {
     "data": {
      "text/plain": [
       "0.81643161334218106"
      ]
     },
     "execution_count": 9,
     "metadata": {},
     "output_type": "execute_result"
    }
   ],
   "source": [
    "classif = SVC(kernel='rbf')\n",
    "y_score = classif.fit(mat,indicator).decision_function(mat_test)\n",
    "roc_auc_score(y_true,y_score)"
   ]
  },
  {
   "cell_type": "code",
   "execution_count": 10,
   "metadata": {},
   "outputs": [
    {
     "data": {
      "text/plain": [
       "0.82867006577013225"
      ]
     },
     "execution_count": 10,
     "metadata": {},
     "output_type": "execute_result"
    }
   ],
   "source": [
    "classif = SVC(kernel='rbf', gamma = 0.1)\n",
    "y_score = classif.fit(mat,indicator).decision_function(mat_test)\n",
    "roc_auc_score(y_true,y_score)"
   ]
  },
  {
   "cell_type": "code",
   "execution_count": 12,
   "metadata": {},
   "outputs": [
    {
     "data": {
      "text/plain": [
       "0.82952684143770306"
      ]
     },
     "execution_count": 12,
     "metadata": {},
     "output_type": "execute_result"
    }
   ],
   "source": [
    "classif = SVC(kernel='rbf', gamma = 0.3)\n",
    "y_score = classif.fit(mat,indicator).decision_function(mat_test)\n",
    "roc_auc_score(y_true,y_score)"
   ]
  },
  {
   "cell_type": "code",
   "execution_count": 13,
   "metadata": {},
   "outputs": [
    {
     "name": "stdout",
     "output_type": "stream",
     "text": [
      "[ 0.70281124  0.93975904  0.79919679]\n"
     ]
    }
   ],
   "source": [
    "scores = cross_val_score(classif, mat, indicator, cv = 3, scoring = 'accuracy')\n",
    "print(scores)"
   ]
  },
  {
   "cell_type": "code",
   "execution_count": 15,
   "metadata": {},
   "outputs": [
    {
     "data": {
      "text/plain": [
       "0.83029961949080655"
      ]
     },
     "execution_count": 15,
     "metadata": {},
     "output_type": "execute_result"
    }
   ],
   "source": [
    "classif = SVC(kernel='rbf', gamma = 0.2)\n",
    "y_score = classif.fit(mat,indicator).decision_function(mat_test)\n",
    "roc_auc_score(y_true,y_score)"
   ]
  },
  {
   "cell_type": "code",
   "execution_count": 16,
   "metadata": {},
   "outputs": [
    {
     "name": "stdout",
     "output_type": "stream",
     "text": [
      "[ 0.78714859  0.96787149  0.92771084]\n"
     ]
    }
   ],
   "source": [
    "scores = cross_val_score(classif, mat, indicator, cv = 3, scoring = 'accuracy')\n",
    "print(scores)"
   ]
  },
  {
   "cell_type": "code",
   "execution_count": 17,
   "metadata": {
    "collapsed": true
   },
   "outputs": [],
   "source": [
    "fpr_rbf, tpr_rbf, thresholds = roc_curve(y_true, y_score)"
   ]
  },
  {
   "cell_type": "markdown",
   "metadata": {},
   "source": [
    "SVM - linear"
   ]
  },
  {
   "cell_type": "code",
   "execution_count": 18,
   "metadata": {
    "scrolled": true
   },
   "outputs": [
    {
     "data": {
      "text/plain": [
       "0.83806099906762654"
      ]
     },
     "execution_count": 18,
     "metadata": {},
     "output_type": "execute_result"
    }
   ],
   "source": [
    "classif = SVC(kernel='linear')\n",
    "y_score = classif.fit(mat,indicator).decision_function(mat_test)\n",
    "roc_auc_score(y_true,y_score)"
   ]
  },
  {
   "cell_type": "code",
   "execution_count": 19,
   "metadata": {},
   "outputs": [
    {
     "name": "stdout",
     "output_type": "stream",
     "text": [
      "[ 0.83534137  0.92369478  0.86746988]\n"
     ]
    }
   ],
   "source": [
    "scores = cross_val_score(classif, mat, indicator, cv = 3, scoring = 'accuracy')\n",
    "print(scores)"
   ]
  },
  {
   "cell_type": "code",
   "execution_count": 20,
   "metadata": {
    "collapsed": true
   },
   "outputs": [],
   "source": [
    "fpr_lin, tpr_lin, thresholds = roc_curve(y_true, y_score)"
   ]
  },
  {
   "cell_type": "markdown",
   "metadata": {},
   "source": [
    "SVM - poly"
   ]
  },
  {
   "cell_type": "code",
   "execution_count": 21,
   "metadata": {},
   "outputs": [
    {
     "data": {
      "text/plain": [
       "0.79042175202224252"
      ]
     },
     "execution_count": 21,
     "metadata": {},
     "output_type": "execute_result"
    }
   ],
   "source": [
    "classif = SVC(kernel='poly', degree=2)\n",
    "y_score = classif.fit(mat,indicator).decision_function(mat_test)\n",
    "roc_auc_score(y_true,y_score)"
   ]
  },
  {
   "cell_type": "code",
   "execution_count": 22,
   "metadata": {},
   "outputs": [
    {
     "data": {
      "text/plain": [
       "0.84562078436972388"
      ]
     },
     "execution_count": 22,
     "metadata": {},
     "output_type": "execute_result"
    }
   ],
   "source": [
    "classif = SVC(kernel='poly', degree=2, gamma = 0.4)\n",
    "y_score = classif.fit(mat,indicator).decision_function(mat_test)\n",
    "roc_auc_score(y_true,y_score)"
   ]
  },
  {
   "cell_type": "code",
   "execution_count": 23,
   "metadata": {},
   "outputs": [
    {
     "name": "stdout",
     "output_type": "stream",
     "text": [
      "[ 0.77108434  0.95582329  0.88353414]\n"
     ]
    }
   ],
   "source": [
    "scores = cross_val_score(classif, mat, indicator, cv = 3, scoring = 'accuracy')\n",
    "print(scores)"
   ]
  },
  {
   "cell_type": "code",
   "execution_count": 24,
   "metadata": {},
   "outputs": [
    {
     "data": {
      "text/plain": [
       "0.84672115311925134"
      ]
     },
     "execution_count": 24,
     "metadata": {},
     "output_type": "execute_result"
    }
   ],
   "source": [
    "classif = SVC(kernel='poly', degree=2, gamma = 0.3)\n",
    "y_score = classif.fit(mat,indicator).decision_function(mat_test)\n",
    "roc_auc_score(y_true,y_score)"
   ]
  },
  {
   "cell_type": "code",
   "execution_count": 25,
   "metadata": {},
   "outputs": [
    {
     "name": "stdout",
     "output_type": "stream",
     "text": [
      "[ 0.79919679  0.96385542  0.89156627]\n"
     ]
    }
   ],
   "source": [
    "scores = cross_val_score(classif, mat, indicator, cv = 3, scoring = 'accuracy')\n",
    "print(scores)"
   ]
  },
  {
   "cell_type": "code",
   "execution_count": 26,
   "metadata": {
    "collapsed": true
   },
   "outputs": [],
   "source": [
    "fpr_poly2, tpr_poly2, thresholds = roc_curve(y_true, y_score)"
   ]
  },
  {
   "cell_type": "code",
   "execution_count": 27,
   "metadata": {},
   "outputs": [
    {
     "data": {
      "text/plain": [
       "0.78122401323802415"
      ]
     },
     "execution_count": 27,
     "metadata": {},
     "output_type": "execute_result"
    }
   ],
   "source": [
    "classif = SVC(kernel='poly', degree=3)\n",
    "y_score = classif.fit(mat,indicator).decision_function(mat_test)\n",
    "roc_auc_score(y_true,y_score)"
   ]
  },
  {
   "cell_type": "code",
   "execution_count": 28,
   "metadata": {
    "collapsed": true
   },
   "outputs": [],
   "source": [
    "fpr_poly3, tpr_poly3, thresholds = roc_curve(y_true, y_score)"
   ]
  },
  {
   "cell_type": "code",
   "execution_count": 29,
   "metadata": {},
   "outputs": [
    {
     "data": {
      "text/plain": [
       "0.76964074220292134"
      ]
     },
     "execution_count": 29,
     "metadata": {},
     "output_type": "execute_result"
    }
   ],
   "source": [
    "classif = SVC(kernel='poly', degree=4)\n",
    "y_score = classif.fit(mat,indicator).decision_function(mat_test)\n",
    "roc_auc_score(y_true,y_score)"
   ]
  },
  {
   "cell_type": "code",
   "execution_count": 30,
   "metadata": {
    "collapsed": true
   },
   "outputs": [],
   "source": [
    "fpr_poly4, tpr_poly4, thresholds = roc_curve(y_true, y_score)"
   ]
  },
  {
   "cell_type": "code",
   "execution_count": 31,
   "metadata": {},
   "outputs": [
    {
     "data": {
      "text/plain": [
       "0.7638953053733275"
      ]
     },
     "execution_count": 31,
     "metadata": {},
     "output_type": "execute_result"
    }
   ],
   "source": [
    "classif = SVC(kernel='poly', degree=5)\n",
    "y_score = classif.fit(mat,indicator).decision_function(mat_test)\n",
    "roc_auc_score(y_true,y_score)"
   ]
  },
  {
   "cell_type": "code",
   "execution_count": 32,
   "metadata": {
    "collapsed": true
   },
   "outputs": [],
   "source": [
    "fpr_poly5, tpr_poly5, thresholds = roc_curve(y_true, y_score)"
   ]
  },
  {
   "cell_type": "markdown",
   "metadata": {},
   "source": [
    "SVM - sigmoid"
   ]
  },
  {
   "cell_type": "code",
   "execution_count": 33,
   "metadata": {
    "scrolled": true
   },
   "outputs": [
    {
     "data": {
      "text/plain": [
       "0.7638953053733275"
      ]
     },
     "execution_count": 33,
     "metadata": {},
     "output_type": "execute_result"
    }
   ],
   "source": [
    "classif = SVC(kernel='sigmoid')\n",
    "classif.fit(mat,indicator).decision_function(mat_test)\n",
    "roc_auc_score(y_true,y_score)"
   ]
  },
  {
   "cell_type": "code",
   "execution_count": 34,
   "metadata": {},
   "outputs": [
    {
     "name": "stdout",
     "output_type": "stream",
     "text": [
      "[ 0.7751004   0.87148594  0.85943775]\n"
     ]
    }
   ],
   "source": [
    "scores = cross_val_score(classif, mat, indicator, cv = 3, scoring = 'accuracy')\n",
    "print(scores)"
   ]
  },
  {
   "cell_type": "code",
   "execution_count": 35,
   "metadata": {
    "collapsed": true
   },
   "outputs": [],
   "source": [
    "fpr_sig, tpr_sig, thresholds = roc_curve(y_true, y_score)"
   ]
  },
  {
   "cell_type": "markdown",
   "metadata": {},
   "source": [
    "SVM - Kfold"
   ]
  },
  {
   "cell_type": "code",
   "execution_count": 36,
   "metadata": {},
   "outputs": [
    {
     "name": "stdout",
     "output_type": "stream",
     "text": [
      "0.96238995526\n",
      "0.83991416309\n"
     ]
    }
   ],
   "source": [
    "classif = SVC(kernel='sigmoid')\n",
    "\n",
    "X = mat\n",
    "y = indicator\n",
    "\n",
    "kf = KFold(n_splits=2)\n",
    "kf.get_n_splits(X)\n",
    "\n",
    "for train_index, test_index in kf.split(X):\n",
    "    \n",
    "    X_train, X_test = X[train_index], X[test_index]\n",
    "    y_train, y_test = y[train_index], y[test_index]\n",
    "    \n",
    "    y_score = classif.fit(X_train,y_train).decision_function(X_test)\n",
    "    \n",
    "    check = roc_auc_score(y_test,y_score)\n",
    "    print(check)"
   ]
  },
  {
   "cell_type": "code",
   "execution_count": 37,
   "metadata": {
    "collapsed": true
   },
   "outputs": [],
   "source": [
    "fpr_kfold, tpr_kfold, thresholds = roc_curve(y_test, y_score)"
   ]
  },
  {
   "cell_type": "markdown",
   "metadata": {},
   "source": [
    "ROC curves"
   ]
  },
  {
   "cell_type": "code",
   "execution_count": 38,
   "metadata": {
    "scrolled": true
   },
   "outputs": [
    {
     "data": {
      "image/png": "[encoded data removed]",
      "text/plain": [
       "<matplotlib.figure.Figure at 0x116740dd0>"
      ]
     },
     "metadata": {},
     "output_type": "display_data"
    }
   ],
   "source": [
    "plt.plot([0, 1], [0, 1], 'k--')\n",
    "plt.plot(fpr_rbf, tpr_rbf, label='RBF')\n",
    "plt.plot(fpr_lin, tpr_lin, label='LINEAR')\n",
    "plt.plot(fpr_poly2, tpr_poly2, label='POLY2')\n",
    "plt.plot(fpr_poly3, tpr_poly3, label='POLY3')\n",
    "plt.plot(fpr_poly4, tpr_poly4, label='POLY4')\n",
    "plt.plot(fpr_poly5, tpr_poly5, label='POLY5')\n",
    "plt.plot(fpr_sig, tpr_sig, label='SIGMOID')\n",
    "plt.plot(fpr_kfold, tpr_kfold, label='RBF_KFOLD')\n",
    "plt.xlabel('False positive rate')\n",
    "plt.ylabel('True positive rate')\n",
    "plt.title('ROC curve')\n",
    "plt.legend(loc='best')\n",
    "plt.show()"
   ]
  },
  {
   "cell_type": "code",
   "execution_count": null,
   "metadata": {
    "collapsed": true
   },
   "outputs": [],
   "source": []
  }
 ],
 "metadata": {
  "kernelspec": {
   "display_name": "Python 2",
   "language": "python",
   "name": "python2"
  },
  "language_info": {
   "codemirror_mode": {
    "name": "ipython",
    "version": 2
   },
   "file_extension": ".py",
   "mimetype": "text/x-python",
   "name": "python",
   "nbconvert_exporter": "python",
   "pygments_lexer": "ipython2",
   "version": "2.7.13"
  }
 },
 "nbformat": 4,
 "nbformat_minor": 2
}
